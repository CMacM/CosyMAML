{
 "cells": [
  {
   "cell_type": "code",
   "execution_count": 3,
   "metadata": {},
   "outputs": [],
   "source": [
    "import torch\n",
    "import higher\n",
    "from torch import nn, autograd as ag\n",
    "import matplotlib.pyplot as plt\n",
    "import numpy as np\n",
    "import pyccl as ccl\n",
    "import tqdm\n",
    "import os\n",
    "import copy\n",
    "import argparse\n",
    "\n",
    "from sklearn.model_selection import train_test_split\n",
    "from sklearn.preprocessing import StandardScaler\n",
    "from torch.utils.data import TensorDataset, DataLoader\n",
    "from scipy.stats.qmc import LatinHypercube"
   ]
  },
  {
   "cell_type": "code",
   "execution_count": null,
   "metadata": {},
   "outputs": [],
   "source": [
    "class CosMAML():\n",
    "    def __init__(self, model):\n",
    "        self.model = model\n",
    "        self.device = torch.device('cuda' if torch.cuda.is_available() else 'cpu')\n",
    "        self.model.to(self.device)\n",
    "    \n",
    "    def train(self, X_train, y_train, n_epochs, \n",
    "                          batch_size, optimiser, loss_fn, loss_rec=True):\n",
    "        X_train = torch.tensor(X_train, dtype=torch.float32).to(self.device)\n",
    "        y_train = torch.tensor(y_train, dtype=torch.float32).to(self.device)\n",
    "        train_dataset = TensorDataset(X_train, y_train)\n",
    "        train_loader = DataLoader(train_dataset, batch_size=batch_size, shuffle=True)\n",
    "        loss_record = []\n",
    "        for _ in range(n_epochs):\n",
    "            for X_batch, y_batch in train_loader:\n",
    "                optimiser.zero_grad()\n",
    "                y_pred = self.model(X_batch)\n",
    "                loss = loss_fn(y_pred, y_batch)\n",
    "                if loss_rec:\n",
    "                    loss_record.append(loss.item())\n",
    "                loss.backward()\n",
    "                optimiser.step()\n",
    "        self.model = self.model\n",
    "        if loss_rec:\n",
    "            return loss_record   \n",
    "\n",
    "    def predict(self, X_test):\n",
    "        X_test = torch.tensor(X_test, dtype=torch.float32).to(self.device)\n",
    "        y_pred = self.model(X_test)\n",
    "        return y_pred.detach().cpu().numpy()\n",
    "    \n",
    "    def maml_train(self, X_train):\n",
    "        return"
   ]
  }
 ],
 "metadata": {
  "kernelspec": {
   "display_name": "py_3.9",
   "language": "python",
   "name": "python3"
  },
  "language_info": {
   "codemirror_mode": {
    "name": "ipython",
    "version": 3
   },
   "file_extension": ".py",
   "mimetype": "text/x-python",
   "name": "python",
   "nbconvert_exporter": "python",
   "pygments_lexer": "ipython3",
   "version": "3.9.18"
  }
 },
 "nbformat": 4,
 "nbformat_minor": 2
}
