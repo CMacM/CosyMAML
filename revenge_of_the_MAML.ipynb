{
 "cells": [
  {
   "cell_type": "code",
   "execution_count": 28,
   "metadata": {},
   "outputs": [],
   "source": [
    "import torch\n",
    "import torch.nn as nn\n",
    "import torch.nn.functional as F\n",
    "import torch.optim as optim\n",
    "from torch import autograd as ag\n",
    "import higher  # Import the higher library for meta-learning\n",
    "\n",
    "import numpy as np \n",
    "import os\n",
    "import copy\n",
    "import matplotlib.pyplot as plt\n",
    "\n",
    "import src.datamaker as datamaker\n",
    "import src.training as training\n",
    "import src.models as models\n",
    "\n",
    "from tqdm import tqdm\n",
    "\n",
    "from importlib import reload\n",
    "reload(datamaker)\n",
    "reload(training)\n",
    "reload(models)\n",
    "\n",
    "plt.rcParams['font.family'] = 'serif'\n",
    "plt.rcParams['font.serif'] = ['cmr10']\n",
    "plt.rcParams['mathtext.fontset'] ='cm'\n",
    "plt.rcParams['figure.facecolor'] = 'white'\n",
    "plt.rc('axes', unicode_minus=False)\n",
    "plt.rc('axes.formatter', use_mathtext=True)"
   ]
  },
  {
   "cell_type": "code",
   "execution_count": 29,
   "metadata": {},
   "outputs": [],
   "source": [
    "def support_query_split(x_train, y_train, spt_frac):\n",
    "    '''\n",
    "    Split the data into support and query sets.\n",
    "\n",
    "    Args:\n",
    "    - x_train: the input data.\n",
    "    - y_train: the target data.\n",
    "    - spt_frac: the fraction of the data to use for the support set.\n",
    "\n",
    "    Returns:\n",
    "    - x_spt: the support input data.\n",
    "    - y_spt: the support target data.\n",
    "    - x_qry: the query input data.\n",
    "    - y_qry: the query target data.\n",
    "    '''\n",
    "    n = len(x_train)\n",
    "    n_spt = int(n * spt_frac)\n",
    "    \n",
    "    idx = torch.randperm(n)\n",
    "    x_spt = x_train[idx[:n_spt]]\n",
    "    y_spt = y_train[idx[:n_spt]]\n",
    "    x_qry = x_train[idx[n_spt:]]\n",
    "    y_qry = y_train[idx[n_spt:]]\n",
    "\n",
    "    return x_spt, y_spt, x_qry, y_qry"
   ]
  }
 ],
 "metadata": {
  "kernelspec": {
   "display_name": "cosymaml",
   "language": "python",
   "name": "python3"
  },
  "language_info": {
   "codemirror_mode": {
    "name": "ipython",
    "version": 3
   },
   "file_extension": ".py",
   "mimetype": "text/x-python",
   "name": "python",
   "nbconvert_exporter": "python",
   "pygments_lexer": "ipython3",
   "version": "3.11.9"
  }
 },
 "nbformat": 4,
 "nbformat_minor": 2
}
